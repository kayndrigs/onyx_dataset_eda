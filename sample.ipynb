{
 "cells": [
  {
   "cell_type": "code",
   "execution_count": 2,
   "metadata": {},
   "outputs": [],
   "source": [
    "import pandas as pd\n",
    "import numpy as np\n",
    "import matplotlib.pyplot as plt\n",
    "import seaborn as sns\n"
   ]
  },
  {
   "cell_type": "code",
   "execution_count": 3,
   "metadata": {},
   "outputs": [],
   "source": [
    "data = pd.read_excel('test_data.xlsx')"
   ]
  },
  {
   "cell_type": "code",
   "execution_count": 4,
   "metadata": {},
   "outputs": [
    {
     "name": "stdout",
     "output_type": "stream",
     "text": [
      "<class 'pandas.core.frame.DataFrame'>\n",
      "RangeIndex: 1132 entries, 0 to 1131\n",
      "Data columns (total 14 columns):\n",
      " #   Column             Non-Null Count  Dtype         \n",
      "---  ------             --------------  -----         \n",
      " 0   Email id           1132 non-null   int64         \n",
      " 1   From Name          1132 non-null   object        \n",
      " 2   From seniority     1132 non-null   object        \n",
      " 3   From Department    1132 non-null   object        \n",
      " 4   To Name            1132 non-null   object        \n",
      " 5   To seniority       1132 non-null   object        \n",
      " 6   To Department      1132 non-null   object        \n",
      " 7   Email topic        1132 non-null   object        \n",
      " 8   Date               1132 non-null   datetime64[ns]\n",
      " 9   Sentiment          1132 non-null   object        \n",
      " 10  Is opened?         1132 non-null   object        \n",
      " 11  Device             1132 non-null   object        \n",
      " 12  Within work hours  1132 non-null   object        \n",
      " 13  Within workdays    1132 non-null   object        \n",
      "dtypes: datetime64[ns](1), int64(1), object(12)\n",
      "memory usage: 123.9+ KB\n"
     ]
    }
   ],
   "source": [
    "data.info()"
   ]
  },
  {
   "cell_type": "code",
   "execution_count": null,
   "metadata": {},
   "outputs": [],
   "source": []
  }
 ],
 "metadata": {
  "kernelspec": {
   "display_name": "Python 3",
   "language": "python",
   "name": "python3"
  },
  "language_info": {
   "codemirror_mode": {
    "name": "ipython",
    "version": 3
   },
   "file_extension": ".py",
   "mimetype": "text/x-python",
   "name": "python",
   "nbconvert_exporter": "python",
   "pygments_lexer": "ipython3",
   "version": "3.12.4"
  }
 },
 "nbformat": 4,
 "nbformat_minor": 2
}
